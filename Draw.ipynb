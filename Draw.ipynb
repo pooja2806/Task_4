{
 "cells": [
  {
   "cell_type": "code",
   "execution_count": 1,
   "metadata": {},
   "outputs": [],
   "source": [
    "import cv2\n",
    "import numpy as np"
   ]
  },
  {
   "cell_type": "code",
   "execution_count": 4,
   "metadata": {},
   "outputs": [],
   "source": [
    "img = np.zeros((720, 1080, 3), dtype=\"uint8\")\n",
    "img=cv2.circle(img, (510,300), 95, (196,120,27), -1)            #head\n",
    "img=cv2.circle(img, (510,315), 80, (255, 255, 255), -1)         #head\n",
    "img=cv2.circle(img, (510,315), 81, (0, 0, 0), 2)                # border\n",
    "img=cv2.ellipse(img, (487, 240), (18, 22), 1, 0, 360, (255, 255, 255), -1)   #left eye\n",
    "img=cv2.ellipse(img, (487, 240), (18, 24), 1, 0, 360, (0, 0, 0), 2)          #left eye border\n",
    "img=cv2.ellipse(img, (525, 240), (18, 22), 1, 0, 360, (255, 255, 255), -1)   #right eye \n",
    "img=cv2.ellipse(img, (525, 240), (18, 24), 1, 0, 360, (0, 0, 0), 2)        #right eye border\n",
    "img=cv2.ellipse(img, (520, 235), (6, 9), 1, 0, 360, (0, 0, 0), -1)\n",
    "img=cv2.ellipse(img, (490, 235), (6, 9), 1, 0, 360, (0, 0, 0), -1)\n",
    "img=cv2.circle(img, (505,267), 10, (4, 4, 199), -1)                 #Nose \n",
    "img=cv2.circle(img, (505,268), 10, (0, 0, 0), 1)                    #Nose Border\n",
    "img=cv2.ellipse(img,(510,310),(45,40),0,0,180,(0, 0, 0),2)          #mouth\n",
    "cv2.imshow('image',img)\n",
    "cv2.waitKey()\n",
    "cv2.destroyAllWindows()"
   ]
  },
  {
   "cell_type": "code",
   "execution_count": null,
   "metadata": {},
   "outputs": [],
   "source": []
  },
  {
   "cell_type": "code",
   "execution_count": null,
   "metadata": {},
   "outputs": [],
   "source": [
    "img = np.zeros((720, 1080, 3), dtype=\"uint8\")\n",
    "img=cv2.ellipse(img, (487, 240), (18, 22), 1, 0, 360, (255, 255, 255), -1) \n",
    "img=cv2.ellipse(img, (525, 240), (18, 22), 1, 0, 360, (255, 255, 255), -1)\n",
    "cv2.imshow('image',img)\n",
    "cv2.waitKey()\n",
    "cv2.destroyAllWindows()"
   ]
  },
  {
   "cell_type": "code",
   "execution_count": null,
   "metadata": {},
   "outputs": [],
   "source": []
  },
  {
   "cell_type": "code",
   "execution_count": null,
   "metadata": {},
   "outputs": [],
   "source": []
  },
  {
   "cell_type": "code",
   "execution_count": null,
   "metadata": {},
   "outputs": [],
   "source": []
  },
  {
   "cell_type": "code",
   "execution_count": null,
   "metadata": {},
   "outputs": [],
   "source": []
  },
  {
   "cell_type": "code",
   "execution_count": null,
   "metadata": {},
   "outputs": [],
   "source": []
  },
  {
   "cell_type": "code",
   "execution_count": null,
   "metadata": {},
   "outputs": [],
   "source": []
  }
 ],
 "metadata": {
  "kernelspec": {
   "display_name": "Python 3",
   "language": "python",
   "name": "python3"
  },
  "language_info": {
   "codemirror_mode": {
    "name": "ipython",
    "version": 3
   },
   "file_extension": ".py",
   "mimetype": "text/x-python",
   "name": "python",
   "nbconvert_exporter": "python",
   "pygments_lexer": "ipython3",
   "version": "3.8.5"
  }
 },
 "nbformat": 4,
 "nbformat_minor": 4
}
